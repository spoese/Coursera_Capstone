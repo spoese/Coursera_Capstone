{
    "nbformat_minor": 1, 
    "cells": [
        {
            "source": "# City Recommendations\n#### A Tool for Choosing New Cities to Visit\n\n### Introduction/Business Problem\nOften times, a person may find themselves wishing to visit somewhere new, but is not sure what places might line up best with their particular interests. Other times, they may have multiple places they wish to visit, but need help prioritizing their list. The aim of this tool is to recommend US cities to a user based on other cities that they enjoyed visiting in the past. It will employ a content-based recommedation system that will compare the venues in 100 major US cities to ones that the user has previously enjoyed and rank them based on how closely they are related. This particular tool could be useful for the individual consumer who is looking for a new place to visit, for a person who is choosing between jobs in different cities, and for a business owner looking to open a new branch of their successful startup among others.\n\n### Data\nFor this project, the following data sources will be used:\n\n- The Foursquare API\n- The Geocoder Python package\n- [Wikipedia](https://en.wikipedia.org/wiki/List_of_United_States_cities_by_population)\n\nIn particular, the Foursquare API will provide information on what venues are located in each city, the Geocoder package will provide geospatial information (latitude/longitude) for those cities, and the Wikipedia page linked provides each major US city ranked by population. We will scrape that site in a similar manner to what was done for Toronto suburbs in a previous weeks assignment to only include the top 100. If the Geocoder package proves to be too inconsistent, then the Wikipedia page also includes latitude and longitude information as well. In addition, the Wikipedia page gives a value for land area. Approximating the city limits to be a circle, we can then use this information to create a radius value to search within. As an example, after New York, Los Angeles, CA is the most populous city in the US according to the Wikipedia page linked. It is located at a latitude of 34.0194 and a longitude of -118.4108 and has a land area of 1,213.9 km<sup>2</sup>. Once we have city information, we can call the Foursquare API using a call similar to:", 
            "cell_type": "markdown", 
            "metadata": {
                "collapsed": true
            }
        }, 
        {
            "execution_count": 6, 
            "cell_type": "code", 
            "metadata": {}, 
            "outputs": [], 
            "source": "#city_latitude = 34.0194\n#city_longitude = -118.4108\n#city_radius = np.sqrt(1213.9*1000/np.pi)\n#url = 'https://api.foursquare.com/v2/venues/explore?client_id={}&client_secret={}&ll={},{}&v={}&radius={}'.format(\n#    CLIENT_ID, \n#    CLIENT_SECRET, \n#    city_latitude, \n#    city_longitude, \n#    VERSION, \n#    city_radius)"
        }, 
        {
            "source": "This will give us information on all venues within the given city. This will then be repeated for every city in the top 100.", 
            "cell_type": "markdown", 
            "metadata": {}
        }
    ], 
    "metadata": {
        "kernelspec": {
            "display_name": "Python 3.5", 
            "name": "python3", 
            "language": "python"
        }, 
        "language_info": {
            "mimetype": "text/x-python", 
            "nbconvert_exporter": "python", 
            "version": "3.5.5", 
            "name": "python", 
            "file_extension": ".py", 
            "pygments_lexer": "ipython3", 
            "codemirror_mode": {
                "version": 3, 
                "name": "ipython"
            }
        }
    }, 
    "nbformat": 4
}