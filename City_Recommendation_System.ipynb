{
    "nbformat_minor": 1, 
    "cells": [
        {
            "source": "# City Recommendations\n#### A Tool for Choosing New Cities to Visit\n\n### Introduction/Business Problem\nOften times, a person may find themselves wishing to visit somewhere new, but is not sure what places might line up best with their particular interests. Other times, they may have multiple places they wish to visit, but need help prioritizing their list. The aim of this tool is to recommend US cities to a user based on other cities that they enjoyed visiting in the past. It will employ a content-based recommedation system that will compare the venues in 100 major US cities to ones that the user has previously enjoyed and rank them based on how closely they are related. This particular tool could be useful for the individual consumer who is looking for a new place to visit, for a person who is choosing between jobs in different cities, and for a business owner looking to open a new branch of their successful startup among others.\n\n### Data\nFor this project, the following data sources will be used:\n\n- The Foursquare API\n- The Geocoder Python package\n- [Wikipedia](https://en.wikipedia.org/wiki/List_of_United_States_cities_by_population)\n\nIn particular, the Foursquare API will provide information on what venues are located in each city, the Geocoder package will provide geospatial information (latitude/longitude) for those cities, and the Wikipedia page linked provides each major US city ranked by population. We will scrape that site in a similar manner to what was done for Toronto suburbs in a previous weeks assignment to only include the top 100. If the Geocoder package proves to be too inconsistent, then the Wikipedia page also includes latitude and longitude information as well.", 
            "cell_type": "markdown", 
            "metadata": {
                "collapsed": true
            }
        }, 
        {
            "execution_count": null, 
            "cell_type": "code", 
            "metadata": {}, 
            "outputs": [], 
            "source": ""
        }
    ], 
    "metadata": {
        "kernelspec": {
            "display_name": "Python 3.5", 
            "name": "python3", 
            "language": "python"
        }, 
        "language_info": {
            "mimetype": "text/x-python", 
            "nbconvert_exporter": "python", 
            "version": "3.5.5", 
            "name": "python", 
            "file_extension": ".py", 
            "pygments_lexer": "ipython3", 
            "codemirror_mode": {
                "version": 3, 
                "name": "ipython"
            }
        }
    }, 
    "nbformat": 4
}